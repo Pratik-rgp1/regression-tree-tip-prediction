{
 "cells": [
  {
   "cell_type": "code",
   "execution_count": 1,
   "id": "38443d3b-57fb-4b07-bb80-eb21f6d52def",
   "metadata": {},
   "outputs": [],
   "source": [
    "from __future__ import print_function\n",
    "import numpy as np\n",
    "import pandas as pd\n",
    "import matplotlib.pyplot as plt\n",
    "%matplotlib inline\n",
    "\n",
    "from sklearn.model_selection import train_test_split\n",
    "from sklearn.preprocessing import normalize\n",
    "from sklearn.metrics import mean_squared_error\n",
    "\n",
    "import warnings\n",
    "warnings.filterwarnings('ignore')"
   ]
  },
  {
   "cell_type": "code",
   "execution_count": 2,
   "id": "53bd0f86-4d23-413d-8519-5a8867cb4ba3",
   "metadata": {},
   "outputs": [
    {
     "data": {
      "text/html": [
       "<div>\n",
       "<style scoped>\n",
       "    .dataframe tbody tr th:only-of-type {\n",
       "        vertical-align: middle;\n",
       "    }\n",
       "\n",
       "    .dataframe tbody tr th {\n",
       "        vertical-align: top;\n",
       "    }\n",
       "\n",
       "    .dataframe thead th {\n",
       "        text-align: right;\n",
       "    }\n",
       "</style>\n",
       "<table border=\"1\" class=\"dataframe\">\n",
       "  <thead>\n",
       "    <tr style=\"text-align: right;\">\n",
       "      <th></th>\n",
       "      <th>VendorID</th>\n",
       "      <th>passenger_count</th>\n",
       "      <th>trip_distance</th>\n",
       "      <th>RatecodeID</th>\n",
       "      <th>store_and_fwd_flag</th>\n",
       "      <th>PULocationID</th>\n",
       "      <th>DOLocationID</th>\n",
       "      <th>payment_type</th>\n",
       "      <th>fare_amount</th>\n",
       "      <th>mta_tax</th>\n",
       "      <th>tolls_amount</th>\n",
       "      <th>improvement_surcharge</th>\n",
       "      <th>tip_amount</th>\n",
       "    </tr>\n",
       "  </thead>\n",
       "  <tbody>\n",
       "    <tr>\n",
       "      <th>0</th>\n",
       "      <td>2</td>\n",
       "      <td>1</td>\n",
       "      <td>17.63</td>\n",
       "      <td>2</td>\n",
       "      <td>1</td>\n",
       "      <td>132</td>\n",
       "      <td>164</td>\n",
       "      <td>1</td>\n",
       "      <td>70.0</td>\n",
       "      <td>0.5</td>\n",
       "      <td>6.94</td>\n",
       "      <td>1</td>\n",
       "      <td>16.54</td>\n",
       "    </tr>\n",
       "    <tr>\n",
       "      <th>1</th>\n",
       "      <td>2</td>\n",
       "      <td>1</td>\n",
       "      <td>19.52</td>\n",
       "      <td>2</td>\n",
       "      <td>1</td>\n",
       "      <td>132</td>\n",
       "      <td>236</td>\n",
       "      <td>1</td>\n",
       "      <td>70.0</td>\n",
       "      <td>0.5</td>\n",
       "      <td>6.94</td>\n",
       "      <td>1</td>\n",
       "      <td>16.19</td>\n",
       "    </tr>\n",
       "    <tr>\n",
       "      <th>2</th>\n",
       "      <td>2</td>\n",
       "      <td>1</td>\n",
       "      <td>17.81</td>\n",
       "      <td>2</td>\n",
       "      <td>1</td>\n",
       "      <td>132</td>\n",
       "      <td>48</td>\n",
       "      <td>1</td>\n",
       "      <td>70.0</td>\n",
       "      <td>0.5</td>\n",
       "      <td>6.94</td>\n",
       "      <td>1</td>\n",
       "      <td>12.00</td>\n",
       "    </tr>\n",
       "    <tr>\n",
       "      <th>3</th>\n",
       "      <td>2</td>\n",
       "      <td>2</td>\n",
       "      <td>19.30</td>\n",
       "      <td>2</td>\n",
       "      <td>1</td>\n",
       "      <td>132</td>\n",
       "      <td>148</td>\n",
       "      <td>1</td>\n",
       "      <td>70.0</td>\n",
       "      <td>0.5</td>\n",
       "      <td>0.00</td>\n",
       "      <td>1</td>\n",
       "      <td>5.00</td>\n",
       "    </tr>\n",
       "    <tr>\n",
       "      <th>4</th>\n",
       "      <td>2</td>\n",
       "      <td>1</td>\n",
       "      <td>18.75</td>\n",
       "      <td>2</td>\n",
       "      <td>1</td>\n",
       "      <td>132</td>\n",
       "      <td>234</td>\n",
       "      <td>1</td>\n",
       "      <td>70.0</td>\n",
       "      <td>0.5</td>\n",
       "      <td>6.94</td>\n",
       "      <td>1</td>\n",
       "      <td>10.00</td>\n",
       "    </tr>\n",
       "    <tr>\n",
       "      <th>...</th>\n",
       "      <td>...</td>\n",
       "      <td>...</td>\n",
       "      <td>...</td>\n",
       "      <td>...</td>\n",
       "      <td>...</td>\n",
       "      <td>...</td>\n",
       "      <td>...</td>\n",
       "      <td>...</td>\n",
       "      <td>...</td>\n",
       "      <td>...</td>\n",
       "      <td>...</td>\n",
       "      <td>...</td>\n",
       "      <td>...</td>\n",
       "    </tr>\n",
       "    <tr>\n",
       "      <th>41197</th>\n",
       "      <td>2</td>\n",
       "      <td>1</td>\n",
       "      <td>16.94</td>\n",
       "      <td>2</td>\n",
       "      <td>1</td>\n",
       "      <td>132</td>\n",
       "      <td>164</td>\n",
       "      <td>1</td>\n",
       "      <td>70.0</td>\n",
       "      <td>0.5</td>\n",
       "      <td>6.94</td>\n",
       "      <td>1</td>\n",
       "      <td>5.00</td>\n",
       "    </tr>\n",
       "    <tr>\n",
       "      <th>41198</th>\n",
       "      <td>2</td>\n",
       "      <td>4</td>\n",
       "      <td>19.83</td>\n",
       "      <td>2</td>\n",
       "      <td>1</td>\n",
       "      <td>132</td>\n",
       "      <td>166</td>\n",
       "      <td>1</td>\n",
       "      <td>70.0</td>\n",
       "      <td>0.5</td>\n",
       "      <td>6.94</td>\n",
       "      <td>1</td>\n",
       "      <td>8.00</td>\n",
       "    </tr>\n",
       "    <tr>\n",
       "      <th>41199</th>\n",
       "      <td>2</td>\n",
       "      <td>1</td>\n",
       "      <td>17.31</td>\n",
       "      <td>2</td>\n",
       "      <td>1</td>\n",
       "      <td>132</td>\n",
       "      <td>137</td>\n",
       "      <td>1</td>\n",
       "      <td>70.0</td>\n",
       "      <td>0.5</td>\n",
       "      <td>6.94</td>\n",
       "      <td>1</td>\n",
       "      <td>8.00</td>\n",
       "    </tr>\n",
       "    <tr>\n",
       "      <th>41200</th>\n",
       "      <td>2</td>\n",
       "      <td>1</td>\n",
       "      <td>17.28</td>\n",
       "      <td>2</td>\n",
       "      <td>1</td>\n",
       "      <td>132</td>\n",
       "      <td>233</td>\n",
       "      <td>1</td>\n",
       "      <td>70.0</td>\n",
       "      <td>0.5</td>\n",
       "      <td>6.94</td>\n",
       "      <td>1</td>\n",
       "      <td>16.19</td>\n",
       "    </tr>\n",
       "    <tr>\n",
       "      <th>41201</th>\n",
       "      <td>2</td>\n",
       "      <td>1</td>\n",
       "      <td>16.82</td>\n",
       "      <td>2</td>\n",
       "      <td>1</td>\n",
       "      <td>132</td>\n",
       "      <td>170</td>\n",
       "      <td>1</td>\n",
       "      <td>70.0</td>\n",
       "      <td>0.5</td>\n",
       "      <td>6.94</td>\n",
       "      <td>1</td>\n",
       "      <td>4.13</td>\n",
       "    </tr>\n",
       "  </tbody>\n",
       "</table>\n",
       "<p>41202 rows × 13 columns</p>\n",
       "</div>"
      ],
      "text/plain": [
       "       VendorID  passenger_count  trip_distance  RatecodeID  \\\n",
       "0             2                1          17.63           2   \n",
       "1             2                1          19.52           2   \n",
       "2             2                1          17.81           2   \n",
       "3             2                2          19.30           2   \n",
       "4             2                1          18.75           2   \n",
       "...         ...              ...            ...         ...   \n",
       "41197         2                1          16.94           2   \n",
       "41198         2                4          19.83           2   \n",
       "41199         2                1          17.31           2   \n",
       "41200         2                1          17.28           2   \n",
       "41201         2                1          16.82           2   \n",
       "\n",
       "       store_and_fwd_flag  PULocationID  DOLocationID  payment_type  \\\n",
       "0                       1           132           164             1   \n",
       "1                       1           132           236             1   \n",
       "2                       1           132            48             1   \n",
       "3                       1           132           148             1   \n",
       "4                       1           132           234             1   \n",
       "...                   ...           ...           ...           ...   \n",
       "41197                   1           132           164             1   \n",
       "41198                   1           132           166             1   \n",
       "41199                   1           132           137             1   \n",
       "41200                   1           132           233             1   \n",
       "41201                   1           132           170             1   \n",
       "\n",
       "       fare_amount  mta_tax  tolls_amount  improvement_surcharge  tip_amount  \n",
       "0             70.0      0.5          6.94                      1       16.54  \n",
       "1             70.0      0.5          6.94                      1       16.19  \n",
       "2             70.0      0.5          6.94                      1       12.00  \n",
       "3             70.0      0.5          0.00                      1        5.00  \n",
       "4             70.0      0.5          6.94                      1       10.00  \n",
       "...            ...      ...           ...                    ...         ...  \n",
       "41197         70.0      0.5          6.94                      1        5.00  \n",
       "41198         70.0      0.5          6.94                      1        8.00  \n",
       "41199         70.0      0.5          6.94                      1        8.00  \n",
       "41200         70.0      0.5          6.94                      1       16.19  \n",
       "41201         70.0      0.5          6.94                      1        4.13  \n",
       "\n",
       "[41202 rows x 13 columns]"
      ]
     },
     "execution_count": 2,
     "metadata": {},
     "output_type": "execute_result"
    }
   ],
   "source": [
    "# read the input data\n",
    "url = '../data/yellow_tripdata.csv'\n",
    "raw_data = pd.read_csv(url)\n",
    "raw_data"
   ]
  },
  {
   "cell_type": "code",
   "execution_count": 3,
   "id": "0d5de358-6e37-4d39-bfc9-dde53d22694a",
   "metadata": {},
   "outputs": [
    {
     "data": {
      "text/plain": [
       "<Axes: >"
      ]
     },
     "execution_count": 3,
     "metadata": {},
     "output_type": "execute_result"
    },
    {
     "data": {
      "image/png": "[encoded data removed]",
      "text/plain": [
       "<Figure size 1000x600 with 1 Axes>"
      ]
     },
     "metadata": {},
     "output_type": "display_data"
    }
   ],
   "source": [
    "# Plot correlation of input features with the target variable 'tip_amount'\n",
    "correlation_values = raw_data.corr()['tip_amount'].drop('tip_amount')\n",
    "correlation_values.plot(kind='barh', figsize=(10, 6))\n",
    "# Shows payment_type, VendorID, store_and_fwd_flag, and improvement_surcharge have little to no correlation with tip_amount\n"
   ]
  },
  {
   "cell_type": "code",
   "execution_count": 4,
   "id": "b057fa40-f37d-4314-8623-53e32dbce94c",
   "metadata": {},
   "outputs": [],
   "source": [
    "# Dataset Preprocessing: prepare data for training\n",
    "\n",
    "# Extract the target variable 'tip_amount' as labels\n",
    "y = raw_data[['tip_amount']].values.astype('float32')\n",
    "\n",
    "# Drop the target variable from the features dataframe\n",
    "proc_data = raw_data.drop(['tip_amount'], axis=1)\n",
    "\n",
    "# Convert the remaining dataframe to a feature matrix\n",
    "X = proc_data.values\n",
    "\n",
    "# Normalize the feature matrix using L1 norm along each sample\n",
    "X = normalize(X, axis=1, norm='l1', copy=False)\n"
   ]
  },
  {
   "cell_type": "code",
   "execution_count": 14,
   "id": "621f5b2c-6a6a-479e-b39e-9dfb527380e2",
   "metadata": {},
   "outputs": [],
   "source": [
    "# Split dataset into training and testing sets (70% train, 30% test)\n",
    "X_train, X_test, y_train, y_test = train_test_split(X, y, test_size=0.3, random_state=42)\n"
   ]
  },
  {
   "cell_type": "code",
   "execution_count": 15,
   "id": "49b486ca-6a48-4d84-85b1-0b0023973cef",
   "metadata": {},
   "outputs": [
    {
     "data": {
      "text/html": [
       "<style>#sk-container-id-2 {color: black;background-color: white;}#sk-container-id-2 pre{padding: 0;}#sk-container-id-2 div.sk-toggleable {background-color: white;}#sk-container-id-2 label.sk-toggleable__label {cursor: pointer;display: block;width: 100%;margin-bottom: 0;padding: 0.3em;box-sizing: border-box;text-align: center;}#sk-container-id-2 label.sk-toggleable__label-arrow:before {content: \"▸\";float: left;margin-right: 0.25em;color: #696969;}#sk-container-id-2 label.sk-toggleable__label-arrow:hover:before {color: black;}#sk-container-id-2 div.sk-estimator:hover label.sk-toggleable__label-arrow:before {color: black;}#sk-container-id-2 div.sk-toggleable__content {max-height: 0;max-width: 0;overflow: hidden;text-align: left;background-color: #f0f8ff;}#sk-container-id-2 div.sk-toggleable__content pre {margin: 0.2em;color: black;border-radius: 0.25em;background-color: #f0f8ff;}#sk-container-id-2 input.sk-toggleable__control:checked~div.sk-toggleable__content {max-height: 200px;max-width: 100%;overflow: auto;}#sk-container-id-2 input.sk-toggleable__control:checked~label.sk-toggleable__label-arrow:before {content: \"▾\";}#sk-container-id-2 div.sk-estimator input.sk-toggleable__control:checked~label.sk-toggleable__label {background-color: #d4ebff;}#sk-container-id-2 div.sk-label input.sk-toggleable__control:checked~label.sk-toggleable__label {background-color: #d4ebff;}#sk-container-id-2 input.sk-hidden--visually {border: 0;clip: rect(1px 1px 1px 1px);clip: rect(1px, 1px, 1px, 1px);height: 1px;margin: -1px;overflow: hidden;padding: 0;position: absolute;width: 1px;}#sk-container-id-2 div.sk-estimator {font-family: monospace;background-color: #f0f8ff;border: 1px dotted black;border-radius: 0.25em;box-sizing: border-box;margin-bottom: 0.5em;}#sk-container-id-2 div.sk-estimator:hover {background-color: #d4ebff;}#sk-container-id-2 div.sk-parallel-item::after {content: \"\";width: 100%;border-bottom: 1px solid gray;flex-grow: 1;}#sk-container-id-2 div.sk-label:hover label.sk-toggleable__label {background-color: #d4ebff;}#sk-container-id-2 div.sk-serial::before {content: \"\";position: absolute;border-left: 1px solid gray;box-sizing: border-box;top: 0;bottom: 0;left: 50%;z-index: 0;}#sk-container-id-2 div.sk-serial {display: flex;flex-direction: column;align-items: center;background-color: white;padding-right: 0.2em;padding-left: 0.2em;position: relative;}#sk-container-id-2 div.sk-item {position: relative;z-index: 1;}#sk-container-id-2 div.sk-parallel {display: flex;align-items: stretch;justify-content: center;background-color: white;position: relative;}#sk-container-id-2 div.sk-item::before, #sk-container-id-2 div.sk-parallel-item::before {content: \"\";position: absolute;border-left: 1px solid gray;box-sizing: border-box;top: 0;bottom: 0;left: 50%;z-index: -1;}#sk-container-id-2 div.sk-parallel-item {display: flex;flex-direction: column;z-index: 1;position: relative;background-color: white;}#sk-container-id-2 div.sk-parallel-item:first-child::after {align-self: flex-end;width: 50%;}#sk-container-id-2 div.sk-parallel-item:last-child::after {align-self: flex-start;width: 50%;}#sk-container-id-2 div.sk-parallel-item:only-child::after {width: 0;}#sk-container-id-2 div.sk-dashed-wrapped {border: 1px dashed gray;margin: 0 0.4em 0.5em 0.4em;box-sizing: border-box;padding-bottom: 0.4em;background-color: white;}#sk-container-id-2 div.sk-label label {font-family: monospace;font-weight: bold;display: inline-block;line-height: 1.2em;}#sk-container-id-2 div.sk-label-container {text-align: center;}#sk-container-id-2 div.sk-container {/* jupyter's `normalize.less` sets `[hidden] { display: none; }` but bootstrap.min.css set `[hidden] { display: none !important; }` so we also need the `!important` here to be able to override the default hidden behavior on the sphinx rendered scikit-learn.org. See: https://github.com/scikit-learn/scikit-learn/issues/21755 */display: inline-block !important;position: relative;}#sk-container-id-2 div.sk-text-repr-fallback {display: none;}</style><div id=\"sk-container-id-2\" class=\"sk-top-container\"><div class=\"sk-text-repr-fallback\"><pre>DecisionTreeRegressor(max_depth=8, random_state=35)</pre><b>In a Jupyter environment, please rerun this cell to show the HTML representation or trust the notebook. <br />On GitHub, the HTML representation is unable to render, please try loading this page with nbviewer.org.</b></div><div class=\"sk-container\" hidden><div class=\"sk-item\"><div class=\"sk-estimator sk-toggleable\"><input class=\"sk-toggleable__control sk-hidden--visually\" id=\"sk-estimator-id-2\" type=\"checkbox\" checked><label for=\"sk-estimator-id-2\" class=\"sk-toggleable__label sk-toggleable__label-arrow\">DecisionTreeRegressor</label><div class=\"sk-toggleable__content\"><pre>DecisionTreeRegressor(max_depth=8, random_state=35)</pre></div></div></div></div></div>"
      ],
      "text/plain": [
       "DecisionTreeRegressor(max_depth=8, random_state=35)"
      ]
     },
     "execution_count": 15,
     "metadata": {},
     "output_type": "execute_result"
    }
   ],
   "source": [
    "# Import Decision Tree Regressor\n",
    "from sklearn.tree import DecisionTreeRegressor\n",
    "\n",
    "# Initialize the model with specified criterion and max_depth\n",
    "dt_reg = DecisionTreeRegressor(criterion='squared_error', max_depth=8, random_state=35)\n",
    "\n",
    "# Train the Decision Tree Regressor on training data\n",
    "dt_reg.fit(X_train, y_train)\n"
   ]
  },
  {
   "cell_type": "code",
   "execution_count": 16,
   "id": "f0a02448-855e-4aa9-9c1b-8d8935637b68",
   "metadata": {},
   "outputs": [
    {
     "name": "stdout",
     "output_type": "stream",
     "text": [
      "MSE score : 25.195\n",
      "R^2 score : 0.003\n"
     ]
    }
   ],
   "source": [
    "# Run inference using the trained Decision Tree Regressor model\n",
    "y_pred = dt_reg.predict(X_test)\n",
    "\n",
    "# Evaluate mean squared error on the test dataset\n",
    "mse_score = mean_squared_error(y_test, y_pred)\n",
    "print('MSE score : {0:.3f}'.format(mse_score))\n",
    "\n",
    "# Calculate and print R^2 score (coefficient of determination)\n",
    "r2_score = dt_reg.score(X_test, y_test)\n",
    "print('R^2 score : {0:.3f}'.format(r2_score))\n"
   ]
  },
  {
   "cell_type": "markdown",
   "id": "28152912-9723-4ff2-802e-9f28e82faaa6",
   "metadata": {},
   "source": [
    "<b> Problems<b/>"
   ]
  },
  {
   "cell_type": "code",
   "execution_count": 17,
   "id": "e9423d6b-cb19-404a-86de-a531cda007e5",
   "metadata": {},
   "outputs": [
    {
     "name": "stdout",
     "output_type": "stream",
     "text": [
      "MSE with max_depth=12: 27.782\n",
      "R^2 with max_depth=12: -0.100\n"
     ]
    }
   ],
   "source": [
    "# Initialize Decision Tree Regressor with max_depth=12\n",
    "dt_reg_12 = DecisionTreeRegressor(criterion='squared_error', max_depth=12, random_state=35)\n",
    "\n",
    "# Train the model\n",
    "dt_reg_12.fit(X_train, y_train)\n",
    "\n",
    "# Predict on test data\n",
    "y_pred_12 = dt_reg_12.predict(X_test)\n",
    "\n",
    "# Calculate MSE\n",
    "mse_12 = mean_squared_error(y_test, y_pred_12)\n",
    "print(f\"MSE with max_depth=12: {mse_12:.3f}\")\n",
    "\n",
    "# Calculate R^2 score\n",
    "r2_12 = dt_reg_12.score(X_test, y_test)\n",
    "print(f\"R^2 with max_depth=12: {r2_12:.3f}\")\n",
    "# Increasing max_depth to 12 usually leads to a more complex model that may overfit the training data. \n",
    "#This can increase the Mean Squared Error (MSE) on the test set and reduce the R² score, possibly even to negative values, indicating poor generalization on unseen data."
   ]
  },
  {
   "cell_type": "code",
   "execution_count": 18,
   "id": "55e94342-cf29-49aa-90b9-0be20239e1e1",
   "metadata": {},
   "outputs": [
    {
     "name": "stdout",
     "output_type": "stream",
     "text": [
      "Top 3 features affecting tip_amount:\n",
      " fare_amount      0.200638\n",
      "tolls_amount     0.116172\n",
      "trip_distance    0.101819\n",
      "Name: tip_amount, dtype: float64\n"
     ]
    }
   ],
   "source": [
    "# Identify top 3 features most correlated with tip_amount\n",
    "correlation_values = raw_data.corr()['tip_amount'].drop('tip_amount')\n",
    "top_3_features = abs(correlation_values).sort_values(ascending=False)[:3]\n",
    "print(\"Top 3 features affecting tip_amount:\\n\", top_3_features)"
   ]
  },
  {
   "cell_type": "code",
   "execution_count": null,
   "id": "00e80b79-ec28-491b-a175-9087344e7bed",
   "metadata": {},
   "outputs": [],
   "source": [
    "#  Remove features with low correlation and re-run modeling steps\n",
    "raw_data = raw_data.drop(['payment_type', 'VendorID', 'store_and_fwd_flag', 'improvement_surcharge'], axis=1)\n",
    "\n",
    "# After dropping, repeat data split, model training, and evaluation\n",
    "# Example:\n",
    "X = raw_data.drop('tip_amount', axis=1)\n",
    "y = raw_data['tip_amount']\n",
    "\n",
    "X_train, X_test, y_train, y_test = train_test_split(X, y, test_size=0.3, random_state=35)\n",
    "\n",
    "dt_reg = DecisionTreeRegressor(criterion='squared_error', max_depth=8, random_state=35)\n",
    "dt_reg.fit(X_train, y_train)\n",
    "y_pred = dt_reg.predict(X_test)\n",
    "\n",
    "mse = mean_squared_error(y_test, y_pred)\n",
    "r2 = dt_reg.score(X_test, y_test)\n",
    "print(f\"After removing low-correlation features:\\nMSE: {mse:.3f}\\nR^2: {r2:.3f}\")\n",
    "\n",
    "# cols_to_drop = ['payment_type', 'VendorID', 'store_and_fwd_flag', 'improvement_surcharge']\n",
    "# existing_cols = [col for col in cols_to_drop if col in raw_data.columns]\n",
    "# raw_data = raw_data.drop(existing_cols, axis=1)\n"
   ]
  },
  {
   "cell_type": "code",
   "execution_count": 20,
   "id": "ae1f6b8c-77cb-458e-b18c-d9d56aa5ec06",
   "metadata": {},
   "outputs": [
    {
     "name": "stdout",
     "output_type": "stream",
     "text": [
      "With max_depth=4:\n",
      "MSE: 24.122\n",
      "R^2: 0.045\n"
     ]
    }
   ],
   "source": [
    "#  Check effect of decreasing max_depth to 4\n",
    "dt_reg_depth4 = DecisionTreeRegressor(criterion='squared_error', max_depth=4, random_state=35)\n",
    "dt_reg_depth4.fit(X_train, y_train)\n",
    "y_pred_depth4 = dt_reg_depth4.predict(X_test)\n",
    "\n",
    "mse_depth4 = mean_squared_error(y_test, y_pred_depth4)\n",
    "r2_depth4 = dt_reg_depth4.score(X_test, y_test)\n",
    "\n",
    "print(f\"With max_depth=4:\\nMSE: {mse_depth4:.3f}\\nR^2: {r2_depth4:.3f}\")"
   ]
  }
 ],
 "metadata": {
  "kernelspec": {
   "display_name": "Python 3 (ipykernel)",
   "language": "python",
   "name": "python3"
  },
  "language_info": {
   "codemirror_mode": {
    "name": "ipython",
    "version": 3
   },
   "file_extension": ".py",
   "mimetype": "text/x-python",
   "name": "python",
   "nbconvert_exporter": "python",
   "pygments_lexer": "ipython3",
   "version": "3.11.7"
  }
 },
 "nbformat": 4,
 "nbformat_minor": 5
}
